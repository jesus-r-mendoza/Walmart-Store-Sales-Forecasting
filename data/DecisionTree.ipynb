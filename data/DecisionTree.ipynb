{
 "cells": [
  {
   "cell_type": "markdown",
   "metadata": {},
   "source": [
    "# Decision Tree"
   ]
  },
  {
   "cell_type": "markdown",
   "metadata": {},
   "source": [
    "### Merge feature and test datasets"
   ]
  },
  {
   "cell_type": "code",
   "execution_count": 1,
   "metadata": {},
   "outputs": [],
   "source": [
    "import numpy as np\n",
    "import pandas as pd\n",
    "\n",
    "from sklearn.tree import DecisionTreeClassifier\n",
    "from pandas import DatetimeIndex\n",
    "from sklearn.model_selection import train_test_split\n",
    "from sklearn.tree import DecisionTreeRegressor\n",
    "from sklearn.model_selection import train_test_split\n",
    "from sklearn.metrics import accuracy_score\n",
    "\n",
    "#We have to merge our data\n",
    "def mergeData(df):\n",
    "    features =pd.read_csv('features.csv')\n",
    "    storesdata =pd.read_csv('stores.csv')\n",
    "    df = pd.merge(df, features, on=['Store','Date','IsHoliday'],how='inner')\n",
    "    df = pd.merge(df, storesdata, on=['Store'], how='inner')\n",
    "    return df\n"
   ]
  },
  {
   "cell_type": "code",
   "execution_count": 2,
   "metadata": {},
   "outputs": [],
   "source": [
    "merged_df = mergeData(pd.read_csv('train.csv'))"
   ]
  },
  {
   "cell_type": "code",
   "execution_count": 3,
   "metadata": {},
   "outputs": [],
   "source": [
    "merged_df.fillna(value=0, inplace=True)\n",
    "\n",
    "merged_df['Markdowns'] = merged_df['MarkDown1'] + merged_df['MarkDown2'] + merged_df['MarkDown3'] + merged_df['MarkDown4'] + merged_df['MarkDown5'] \n",
    "labelsToDrop = ['MarkDown1', 'MarkDown2', 'MarkDown3','MarkDown4','MarkDown5']\n",
    "merged_df.drop(labels=labelsToDrop,axis=1, inplace=True)"
   ]
  },
  {
   "cell_type": "code",
   "execution_count": 4,
   "metadata": {},
   "outputs": [
    {
     "name": "stdout",
     "output_type": "stream",
     "text": [
      "   Store  Dept  Weekly_Sales  IsHoliday  Temperature  Fuel_Price         CPI  \\\n",
      "0      1     1      24924.50      False        42.31       2.572  211.096358   \n",
      "1      1     2      50605.27      False        42.31       2.572  211.096358   \n",
      "2      1     3      13740.12      False        42.31       2.572  211.096358   \n",
      "3      1     4      39954.04      False        42.31       2.572  211.096358   \n",
      "4      1     5      32229.38      False        42.31       2.572  211.096358   \n",
      "\n",
      "   Unemployment Type    Size  Markdowns  Year  Month  Day  \n",
      "0         8.106    A  151315        0.0  2010      2    5  \n",
      "1         8.106    A  151315        0.0  2010      2    5  \n",
      "2         8.106    A  151315        0.0  2010      2    5  \n",
      "3         8.106    A  151315        0.0  2010      2    5  \n",
      "4         8.106    A  151315        0.0  2010      2    5  \n"
     ]
    }
   ],
   "source": [
    "merged_df.loc[merged_df['Weekly_Sales']>300000,\"Date\"].value_counts()\n",
    "\n",
    "df = merged_df\n",
    "df.Date = pd.to_datetime(df.Date)\n",
    "\n",
    "#Converts the date into three columns\n",
    "df['Year'] = DatetimeIndex(df['Date']).year\n",
    "df['Month']= DatetimeIndex(df['Date']).month\n",
    "df['Day'] = DatetimeIndex(df['Date']).day\n",
    "df = df.drop(columns=['Date'])\n",
    "\n",
    "print(df.head())"
   ]
  },
  {
   "cell_type": "code",
   "execution_count": 5,
   "metadata": {},
   "outputs": [],
   "source": [
    "#creating the feature matrix \n",
    "def categorical_to_numeric(x):\n",
    "    if x == False:\n",
    "        return 0\n",
    "    elif x == True:\n",
    "        return 1\n",
    "    \n",
    "df['IsHoliday'] = df['IsHoliday'].apply(categorical_to_numeric)\n",
    "\n",
    "y =df['Weekly_Sales']\n",
    "X = df.drop(columns=['Weekly_Sales','Type'])"
   ]
  },
  {
   "cell_type": "code",
   "execution_count": 6,
   "metadata": {},
   "outputs": [],
   "source": [
    "X_train, X_test, y_train, y_test = train_test_split(X, y, test_size=0.3, random_state=2)"
   ]
  },
  {
   "cell_type": "markdown",
   "metadata": {},
   "source": [
    "## Decision Tree"
   ]
  },
  {
   "cell_type": "code",
   "execution_count": 7,
   "metadata": {},
   "outputs": [
    {
     "data": {
      "text/plain": [
       "DecisionTreeRegressor(criterion='mse', max_depth=None, max_features=None,\n",
       "           max_leaf_nodes=None, min_impurity_decrease=0.0,\n",
       "           min_impurity_split=None, min_samples_leaf=1,\n",
       "           min_samples_split=2, min_weight_fraction_leaf=0.0,\n",
       "           presort=False, random_state=0, splitter='best')"
      ]
     },
     "execution_count": 7,
     "metadata": {},
     "output_type": "execute_result"
    }
   ],
   "source": [
    "#Decision Tree\n",
    "regressor = DecisionTreeRegressor(random_state = 0)\n",
    "regressor.fit(X_train, y_train)"
   ]
  },
  {
   "cell_type": "markdown",
   "metadata": {},
   "source": [
    "## Testing on the testing set"
   ]
  },
  {
   "cell_type": "code",
   "execution_count": 8,
   "metadata": {},
   "outputs": [
    {
     "name": "stdout",
     "output_type": "stream",
     "text": [
      "[ 198.   1630.3  8484.62 ...   85.5  7630.86 3260.06]\n"
     ]
    }
   ],
   "source": [
    "#Our predictions\n",
    "y_predict_dt = regressor.predict(X_test)\n",
    "print(y_predict_dt)"
   ]
  },
  {
   "cell_type": "markdown",
   "metadata": {},
   "source": [
    "## Accuracy Evaluation"
   ]
  },
  {
   "cell_type": "code",
   "execution_count": 9,
   "metadata": {},
   "outputs": [
    {
     "name": "stdout",
     "output_type": "stream",
     "text": [
      "0.9539125333897658\n"
     ]
    }
   ],
   "source": [
    "#Accuracy score based on predictions\n",
    "#score_dt = accuracy_score(y_test, y_predict_dt)\n",
    "\n",
    "score_dt = regressor.score(X_test, y_test)\n",
    "print(score_dt)"
   ]
  },
  {
   "cell_type": "markdown",
   "metadata": {},
   "source": [
    "## Feature Importance"
   ]
  },
  {
   "cell_type": "code",
   "execution_count": 10,
   "metadata": {},
   "outputs": [
    {
     "name": "stdout",
     "output_type": "stream",
     "text": [
      "Store 0.06833741910999895\n",
      "Dept 0.6329163628327762\n",
      "IsHoliday 0.002192471094166806\n",
      "Temperature 0.010236437245977767\n",
      "Fuel_Price 0.004028267493162888\n",
      "CPI 0.02834015409977218\n",
      "Unemployment 0.010058710096131133\n",
      "Size 0.18799620139712928\n",
      "Markdowns 0.002831697364017206\n",
      "Year 0.00029404314039587187\n",
      "Month 0.031595819006091624\n",
      "Day 0.021172417120380177\n"
     ]
    }
   ],
   "source": [
    "for name, importance in zip(X.columns, regressor.feature_importances_):\n",
    "    print(name, importance)"
   ]
  }
 ],
 "metadata": {
  "kernelspec": {
   "display_name": "Python 3",
   "language": "python",
   "name": "python3"
  },
  "language_info": {
   "codemirror_mode": {
    "name": "ipython",
    "version": 3
   },
   "file_extension": ".py",
   "mimetype": "text/x-python",
   "name": "python",
   "nbconvert_exporter": "python",
   "pygments_lexer": "ipython3",
   "version": "3.7.0"
  }
 },
 "nbformat": 4,
 "nbformat_minor": 2
}
