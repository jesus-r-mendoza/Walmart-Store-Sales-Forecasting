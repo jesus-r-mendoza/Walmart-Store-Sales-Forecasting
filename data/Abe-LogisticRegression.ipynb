{
 "cells": [
  {
   "cell_type": "code",
   "execution_count": 1,
   "metadata": {},
   "outputs": [],
   "source": [
    "import numpy as np\n",
    "import pandas as pd\n",
    "\n",
    "from sklearn.linear_model import LogisticRegression\n",
    "from sklearn.tree import DecisionTreeClassifier\n",
    "from sklearn.neighbors import KNeighborsClassifier\n",
    "from sklearn.metrics import accuracy_score\n",
    "from sklearn.model_selection import train_test_split\n",
    "from pandas import DatetimeIndex\n",
    "from sklearn.model_selection import cross_val_score\n",
    "\n",
    "def mergeData(df):\n",
    "    features =pd.read_csv('features.csv')\n",
    "    storesdata =pd.read_csv('stores.csv')\n",
    "    df = pd.merge(df, features, on=['Store','Date','IsHoliday'],how='inner')\n",
    "    df = pd.merge(df, storesdata, on=['Store'], how='inner')\n",
    "    return df\n"
   ]
  },
  {
   "cell_type": "code",
   "execution_count": 2,
   "metadata": {},
   "outputs": [],
   "source": [
    "merged_df = mergeData(pd.read_csv('train.csv'))"
   ]
  },
  {
   "cell_type": "code",
   "execution_count": 3,
   "metadata": {},
   "outputs": [
    {
     "data": {
      "text/plain": [
       "2010-11-26    14\n",
       "2011-11-25    13\n",
       "2010-12-24     5\n",
       "2011-12-23     2\n",
       "Name: Date, dtype: int64"
      ]
     },
     "execution_count": 3,
     "metadata": {},
     "output_type": "execute_result"
    }
   ],
   "source": [
    "merged_df.fillna(value=0, inplace=True)\n",
    "\n",
    "merged_df['Markdowns'] = merged_df['MarkDown1'] + merged_df['MarkDown2'] + merged_df['MarkDown3'] + merged_df['MarkDown4'] + merged_df['MarkDown5'] \n",
    "labelsToDrop = ['MarkDown1', 'MarkDown2', 'MarkDown3','MarkDown4','MarkDown5']\n",
    "merged_df.drop(labels=labelsToDrop,axis=1, inplace=True)\n",
    "merged_df.loc[merged_df['Weekly_Sales']>300000,\"Date\"].value_counts()\n"
   ]
  },
  {
   "cell_type": "code",
   "execution_count": 4,
   "metadata": {},
   "outputs": [
    {
     "name": "stdout",
     "output_type": "stream",
     "text": [
      "   Store  Dept        Date  Weekly_Sales  IsHoliday  Temperature  Fuel_Price  \\\n",
      "0      1     1  2010-02-05      24924.50      False        42.31       2.572   \n",
      "1      1     2  2010-02-05      50605.27      False        42.31       2.572   \n",
      "2      1     3  2010-02-05      13740.12      False        42.31       2.572   \n",
      "3      1     4  2010-02-05      39954.04      False        42.31       2.572   \n",
      "4      1     5  2010-02-05      32229.38      False        42.31       2.572   \n",
      "\n",
      "          CPI  Unemployment Type    Size  Markdowns  \n",
      "0  211.096358         8.106    A  151315        0.0  \n",
      "1  211.096358         8.106    A  151315        0.0  \n",
      "2  211.096358         8.106    A  151315        0.0  \n",
      "3  211.096358         8.106    A  151315        0.0  \n",
      "4  211.096358         8.106    A  151315        0.0  \n"
     ]
    }
   ],
   "source": [
    "df = merged_df\n",
    "print(df.head())"
   ]
  },
  {
   "cell_type": "code",
   "execution_count": 5,
   "metadata": {},
   "outputs": [],
   "source": [
    "df.Date = pd.to_datetime(df.Date)\n",
    "\n",
    "df['Year'] = DatetimeIndex(df['Date']).year\n",
    "df['Month']= DatetimeIndex(df['Date']).month\n",
    "df['Day'] = DatetimeIndex(df['Date']).day\n",
    "df = df.drop(columns=['Date'])"
   ]
  },
  {
   "cell_type": "code",
   "execution_count": 6,
   "metadata": {},
   "outputs": [],
   "source": [
    "#creating the feature matrix \n",
    "feature_cols = ['Store', 'Temperature','Fuel_Price','CPI','Unemployment', 'Markdowns', 'Size', 'Dept', 'Weekly_Sales', 'Year', 'Month', 'Day']\n",
    "X = df[feature_cols]\n",
    "y = df['IsHoliday']\n",
    "\n",
    "X_train, X_test, y_train, y_test = train_test_split(X, y, test_size=0.3, \n",
    "                                                    random_state=2)"
   ]
  },
  {
   "cell_type": "code",
   "execution_count": 7,
   "metadata": {},
   "outputs": [],
   "source": [
    "logreg = LogisticRegression()"
   ]
  },
  {
   "cell_type": "code",
   "execution_count": 8,
   "metadata": {},
   "outputs": [
    {
     "data": {
      "text/plain": [
       "LogisticRegression(C=1.0, class_weight=None, dual=False, fit_intercept=True,\n",
       "          intercept_scaling=1, max_iter=100, multi_class='ovr', n_jobs=1,\n",
       "          penalty='l2', random_state=None, solver='liblinear', tol=0.0001,\n",
       "          verbose=0, warm_start=False)"
      ]
     },
     "execution_count": 8,
     "metadata": {},
     "output_type": "execute_result"
    }
   ],
   "source": [
    "logreg.fit(X_train, y_train)"
   ]
  },
  {
   "cell_type": "code",
   "execution_count": 9,
   "metadata": {},
   "outputs": [
    {
     "name": "stdout",
     "output_type": "stream",
     "text": [
      "[False False False ... False False False]\n"
     ]
    }
   ],
   "source": [
    "y_predict_logreg = logreg.predict(X_test)\n",
    "print(y_predict_logreg)"
   ]
  },
  {
   "cell_type": "code",
   "execution_count": 10,
   "metadata": {},
   "outputs": [
    {
     "name": "stdout",
     "output_type": "stream",
     "text": [
      "0.9323244063856536\n"
     ]
    }
   ],
   "source": [
    "score_logreg = accuracy_score(y_test, y_predict_logreg)\n",
    "print(score_logreg)"
   ]
  },
  {
   "cell_type": "code",
   "execution_count": 11,
   "metadata": {},
   "outputs": [],
   "source": [
    "accuracy_list = cross_val_score(logreg, X, y, cv=5, scoring='accuracy')"
   ]
  },
  {
   "cell_type": "code",
   "execution_count": 12,
   "metadata": {},
   "outputs": [],
   "source": [
    "accuracy_cv = accuracy_list.mean()"
   ]
  },
  {
   "cell_type": "code",
   "execution_count": 13,
   "metadata": {},
   "outputs": [
    {
     "name": "stdout",
     "output_type": "stream",
     "text": [
      "0.9321963126221489\n"
     ]
    }
   ],
   "source": [
    "print(accuracy_cv)"
   ]
  },
  {
   "cell_type": "code",
   "execution_count": null,
   "metadata": {},
   "outputs": [],
   "source": []
  }
 ],
 "metadata": {
  "kernelspec": {
   "display_name": "Python 3",
   "language": "python",
   "name": "python3"
  },
  "language_info": {
   "codemirror_mode": {
    "name": "ipython",
    "version": 3
   },
   "file_extension": ".py",
   "mimetype": "text/x-python",
   "name": "python",
   "nbconvert_exporter": "python",
   "pygments_lexer": "ipython3",
   "version": "3.7.0"
  }
 },
 "nbformat": 4,
 "nbformat_minor": 2
}
