{
 "cells": [
  {
   "cell_type": "markdown",
   "metadata": {},
   "source": [
    "### Linear Regression with Coefficient and RMSE"
   ]
  },
  {
   "cell_type": "markdown",
   "metadata": {},
   "source": [
    "## Merge feature and test datasets"
   ]
  },
  {
   "cell_type": "code",
   "execution_count": 1,
   "metadata": {},
   "outputs": [],
   "source": [
    "### Importing the required packages and libraries\n",
    "# we will need numpy and pandas later\n",
    "import numpy as np\n",
    "import pandas as pd\n",
    "\n",
    "\n",
    "from sklearn.linear_model import LinearRegression\n",
    "#import DecisionTreeClassifier class\n",
    "from sklearn.tree import DecisionTreeClassifier\n",
    "from sklearn.neighbors import KNeighborsClassifier\n",
    "from sklearn.metrics import accuracy_score\n",
    "# Randomly splitting the original dataset into training set and testing set\n",
    "from sklearn.linear_model import LogisticRegression\n",
    "from sklearn.model_selection import train_test_split\n",
    "from sklearn.model_selection import cross_val_score"
   ]
  },
  {
   "cell_type": "code",
   "execution_count": 2,
   "metadata": {},
   "outputs": [],
   "source": [
    "# reading a CSV file directly from Web, and store it in a pandas DataFrame:\n",
    "# \"read_csv\" is a pandas function to read csv files from web or local device:\n",
    "# walmart_features_df =  pd.read_csv('features.csv')\n",
    "\n",
    "# walmart_sampleSubmission_df =  pd.read_csv('sampleSubmission.csv')\n",
    "\n",
    "# walmart_stores_df =  pd.read_csv('stores.csv')\n",
    "\n",
    "# walmart_test_df =  pd.read_csv('test.csv')\n",
    "\n",
    "# walmart_train_df =  pd.read_csv('train.csv')"
   ]
  },
  {
   "cell_type": "code",
   "execution_count": 3,
   "metadata": {},
   "outputs": [
    {
     "data": {
      "text/html": [
       "<div>\n",
       "<style scoped>\n",
       "    .dataframe tbody tr th:only-of-type {\n",
       "        vertical-align: middle;\n",
       "    }\n",
       "\n",
       "    .dataframe tbody tr th {\n",
       "        vertical-align: top;\n",
       "    }\n",
       "\n",
       "    .dataframe thead th {\n",
       "        text-align: right;\n",
       "    }\n",
       "</style>\n",
       "<table border=\"1\" class=\"dataframe\">\n",
       "  <thead>\n",
       "    <tr style=\"text-align: right;\">\n",
       "      <th></th>\n",
       "      <th>Store</th>\n",
       "      <th>Dept</th>\n",
       "      <th>Weekly_Sales</th>\n",
       "      <th>IsHoliday</th>\n",
       "      <th>Temperature</th>\n",
       "      <th>Fuel_Price</th>\n",
       "      <th>CPI</th>\n",
       "      <th>Unemployment</th>\n",
       "      <th>Type</th>\n",
       "      <th>Size</th>\n",
       "      <th>Markdowns</th>\n",
       "      <th>Year</th>\n",
       "      <th>Month</th>\n",
       "      <th>Day</th>\n",
       "    </tr>\n",
       "  </thead>\n",
       "  <tbody>\n",
       "    <tr>\n",
       "      <th>0</th>\n",
       "      <td>1</td>\n",
       "      <td>1</td>\n",
       "      <td>24924.50</td>\n",
       "      <td>False</td>\n",
       "      <td>42.31</td>\n",
       "      <td>2.572</td>\n",
       "      <td>211.096358</td>\n",
       "      <td>8.106</td>\n",
       "      <td>A</td>\n",
       "      <td>151315</td>\n",
       "      <td>0.0</td>\n",
       "      <td>2010</td>\n",
       "      <td>2</td>\n",
       "      <td>5</td>\n",
       "    </tr>\n",
       "    <tr>\n",
       "      <th>100000</th>\n",
       "      <td>11</td>\n",
       "      <td>91</td>\n",
       "      <td>40968.40</td>\n",
       "      <td>False</td>\n",
       "      <td>84.94</td>\n",
       "      <td>2.577</td>\n",
       "      <td>214.848169</td>\n",
       "      <td>7.346</td>\n",
       "      <td>A</td>\n",
       "      <td>207499</td>\n",
       "      <td>0.0</td>\n",
       "      <td>2010</td>\n",
       "      <td>9</td>\n",
       "      <td>3</td>\n",
       "    </tr>\n",
       "    <tr>\n",
       "      <th>200000</th>\n",
       "      <td>21</td>\n",
       "      <td>52</td>\n",
       "      <td>2314.78</td>\n",
       "      <td>False</td>\n",
       "      <td>68.61</td>\n",
       "      <td>2.720</td>\n",
       "      <td>211.471329</td>\n",
       "      <td>8.163</td>\n",
       "      <td>B</td>\n",
       "      <td>140167</td>\n",
       "      <td>0.0</td>\n",
       "      <td>2010</td>\n",
       "      <td>10</td>\n",
       "      <td>15</td>\n",
       "    </tr>\n",
       "    <tr>\n",
       "      <th>300000</th>\n",
       "      <td>31</td>\n",
       "      <td>67</td>\n",
       "      <td>5729.66</td>\n",
       "      <td>False</td>\n",
       "      <td>69.79</td>\n",
       "      <td>3.274</td>\n",
       "      <td>217.004826</td>\n",
       "      <td>7.441</td>\n",
       "      <td>A</td>\n",
       "      <td>203750</td>\n",
       "      <td>0.0</td>\n",
       "      <td>2011</td>\n",
       "      <td>10</td>\n",
       "      <td>14</td>\n",
       "    </tr>\n",
       "    <tr>\n",
       "      <th>400000</th>\n",
       "      <td>43</td>\n",
       "      <td>91</td>\n",
       "      <td>30713.10</td>\n",
       "      <td>False</td>\n",
       "      <td>54.96</td>\n",
       "      <td>2.771</td>\n",
       "      <td>203.819129</td>\n",
       "      <td>10.210</td>\n",
       "      <td>C</td>\n",
       "      <td>41062</td>\n",
       "      <td>0.0</td>\n",
       "      <td>2010</td>\n",
       "      <td>11</td>\n",
       "      <td>19</td>\n",
       "    </tr>\n",
       "  </tbody>\n",
       "</table>\n",
       "</div>"
      ],
      "text/plain": [
       "        Store  Dept  Weekly_Sales  IsHoliday  Temperature  Fuel_Price  \\\n",
       "0           1     1      24924.50      False        42.31       2.572   \n",
       "100000     11    91      40968.40      False        84.94       2.577   \n",
       "200000     21    52       2314.78      False        68.61       2.720   \n",
       "300000     31    67       5729.66      False        69.79       3.274   \n",
       "400000     43    91      30713.10      False        54.96       2.771   \n",
       "\n",
       "               CPI  Unemployment Type    Size  Markdowns  Year  Month  Day  \n",
       "0       211.096358         8.106    A  151315        0.0  2010      2    5  \n",
       "100000  214.848169         7.346    A  207499        0.0  2010      9    3  \n",
       "200000  211.471329         8.163    B  140167        0.0  2010     10   15  \n",
       "300000  217.004826         7.441    A  203750        0.0  2011     10   14  \n",
       "400000  203.819129        10.210    C   41062        0.0  2010     11   19  "
      ]
     },
     "execution_count": 3,
     "metadata": {},
     "output_type": "execute_result"
    }
   ],
   "source": [
    "df = pd.read_csv('../data/merged-train-data.csv')\n",
    "df[0::100000]"
   ]
  },
  {
   "cell_type": "markdown",
   "metadata": {},
   "source": [
    "### Split the merged data set into X_train and y_train, use test dataset for X_test"
   ]
  },
  {
   "cell_type": "code",
   "execution_count": 4,
   "metadata": {},
   "outputs": [],
   "source": [
    "#split with method\n",
    "\n",
    "y =df['Weekly_Sales']\n",
    "X = df.drop(columns=['Weekly_Sales','Type'])\n",
    "\n",
    "X_train, X_test, y_train, y_test = train_test_split(X, y, test_size=0.3, \n",
    "                                                    random_state=2)"
   ]
  },
  {
   "cell_type": "code",
   "execution_count": 5,
   "metadata": {},
   "outputs": [
    {
     "name": "stdout",
     "output_type": "stream",
     "text": [
      "(295099, 12)\n",
      "(295099,)\n",
      "(126471, 12)\n",
      "        Store  Dept  IsHoliday  Temperature  Fuel_Price         CPI  \\\n",
      "154115     16    98      False        31.73       3.479  195.718471   \n",
      "238177     25    81      False        57.17       2.958  203.877024   \n",
      "407348     44    91      False        23.35       2.974  127.719581   \n",
      "6325        1    28      False        71.74       3.274  217.355273   \n",
      "132096     14    22      False        45.01       3.582  184.613419   \n",
      "\n",
      "        Unemployment    Size  Markdowns  Year  Month  Day  \n",
      "154115         6.232   57197    7502.89  2011     11   18  \n",
      "238177         7.856  128107       0.00  2010      5   21  \n",
      "407348         7.224   39910       0.00  2011      2    4  \n",
      "6325           7.866  151315       0.00  2011     10   14  \n",
      "132096         8.549  200898       0.00  2011      3   11  \n"
     ]
    }
   ],
   "source": [
    "print(X_train.shape)\n",
    "print(y_train.shape)\n",
    "print(X_test.shape)\n",
    "print(X_train.head())"
   ]
  },
  {
   "cell_type": "code",
   "execution_count": 6,
   "metadata": {},
   "outputs": [
    {
     "data": {
      "text/plain": [
       "LinearRegression(copy_X=True, fit_intercept=True, n_jobs=1, normalize=False)"
      ]
     },
     "execution_count": 6,
     "metadata": {},
     "output_type": "execute_result"
    }
   ],
   "source": [
    "#Linear Regression\n",
    "\n",
    "linear_reg = LinearRegression()\n",
    "linear_reg.fit(X_train,y_train)"
   ]
  },
  {
   "cell_type": "code",
   "execution_count": 7,
   "metadata": {},
   "outputs": [
    {
     "name": "stdout",
     "output_type": "stream",
     "text": [
      "Intercept:  1366427.6184769098\n",
      "Coefficient:  [-8.73094172e+01  1.10841005e+02  7.05852062e+02  1.98428062e+01\n",
      "  2.92467634e+02 -2.08583897e+01 -1.83231124e+02  8.58850479e-02\n",
      "  3.79210892e-02 -6.77895285e+02  1.30091858e+02 -1.54005316e+01]\n"
     ]
    }
   ],
   "source": [
    "print(\"Intercept: \", linear_reg.intercept_)\n",
    "\n",
    "print(\"Coefficient: \" , linear_reg.coef_)"
   ]
  },
  {
   "cell_type": "markdown",
   "metadata": {},
   "source": [
    "### predictive model"
   ]
  },
  {
   "cell_type": "markdown",
   "metadata": {},
   "source": [
    "$$y = 1366427.618 - 87.309 \\times Store + 101.841 \\times Department + 705.852 \\times Is Holiday+ 19.842 \\times Temperature + 292.467 \\times FuelPrice - 20.858 \\times CPI - 183.231 \\times Unemployment + 0.0859 \\times Size + 0.0379 \\times Markdowns - 677.895 \\times Year + 130.009 \\times Month - 15.400 \\times Day $$"
   ]
  },
  {
   "cell_type": "markdown",
   "metadata": {},
   "source": [
    "###  Most important feature is 'IsHoliday'\n",
    "### meaning that whether that specific day is a holiday or not has the greatest impact on weekly sales\n",
    "### Second most important is Fuel Price follwed by Unemployment\n",
    "### least important is markdowns but a lot of the data was 0"
   ]
  },
  {
   "cell_type": "markdown",
   "metadata": {},
   "source": [
    "### Testing and prediction"
   ]
  },
  {
   "cell_type": "code",
   "execution_count": 8,
   "metadata": {},
   "outputs": [
    {
     "name": "stdout",
     "output_type": "stream",
     "text": [
      "[10912.66259985 22031.38094417 18226.68931311 ...  4949.20422364\n",
      " 17206.18091831 18621.10256506]\n"
     ]
    }
   ],
   "source": [
    "y_pred = linear_reg.predict(X_test)\n",
    "print(y_pred)"
   ]
  },
  {
   "cell_type": "markdown",
   "metadata": {},
   "source": [
    "### RMSE"
   ]
  },
  {
   "cell_type": "code",
   "execution_count": 9,
   "metadata": {},
   "outputs": [],
   "source": [
    "from sklearn import metrics\n",
    "mse = metrics.mean_squared_error(y_test,y_pred)\n",
    "rmse = np.sqrt(mse)"
   ]
  },
  {
   "cell_type": "code",
   "execution_count": 54,
   "metadata": {},
   "outputs": [
    {
     "name": "stdout",
     "output_type": "stream",
     "text": [
      "21830.539350501567\n"
     ]
    }
   ],
   "source": [
    "print(rmse)"
   ]
  },
  {
   "cell_type": "code",
   "execution_count": null,
   "metadata": {},
   "outputs": [],
   "source": []
  }
 ],
 "metadata": {
  "kernelspec": {
   "display_name": "Python 3",
   "language": "python",
   "name": "python3"
  },
  "language_info": {
   "codemirror_mode": {
    "name": "ipython",
    "version": 3
   },
   "file_extension": ".py",
   "mimetype": "text/x-python",
   "name": "python",
   "nbconvert_exporter": "python",
   "pygments_lexer": "ipython3",
   "version": "3.6.5"
  }
 },
 "nbformat": 4,
 "nbformat_minor": 2
}
