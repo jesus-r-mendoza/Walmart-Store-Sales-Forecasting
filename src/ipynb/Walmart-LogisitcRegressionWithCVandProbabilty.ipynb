{
 "cells": [
  {
   "cell_type": "markdown",
   "metadata": {},
   "source": [
    "# brian canela"
   ]
  },
  {
   "cell_type": "code",
   "execution_count": 1,
   "metadata": {},
   "outputs": [],
   "source": [
    "### Importing the required packages and libraries\n",
    "# we will need numpy and pandas later\n",
    "import numpy as np\n",
    "import pandas as pd\n",
    "\n",
    "#import LogisticRegression Class\n",
    "from sklearn.linear_model import LogisticRegression\n",
    "#import DecisionTreeClassifier class\n",
    "from sklearn.tree import DecisionTreeClassifier\n",
    "from sklearn.neighbors import KNeighborsClassifier\n",
    "from sklearn.metrics import accuracy_score\n",
    "# Randomly splitting the original dataset into training set and testing set\n",
    "from sklearn.model_selection import train_test_split"
   ]
  },
  {
   "cell_type": "code",
   "execution_count": 2,
   "metadata": {},
   "outputs": [],
   "source": [
    "# reading a CSV file directly from Web, and store it in a pandas DataFrame:\n",
    "# \"read_csv\" is a pandas function to read csv files from web or local device:\n",
    "#walmart_features_df =  pd.read_csv('features.csv')\n",
    "\n",
    "#walmart_sampleSubmission_df =  pd.read_csv('sampleSubmission.csv')\n",
    "\n",
    "#walmart_stores_df =  pd.read_csv('stores.csv')\n",
    "\n",
    "#walmart_test_df =  pd.read_csv('test.csv')\n",
    "\n",
    "#walmart_train_df =  pd.read_csv('train.csv')"
   ]
  },
  {
   "cell_type": "code",
   "execution_count": 3,
   "metadata": {},
   "outputs": [
    {
     "data": {
      "text/html": [
       "<div>\n",
       "<style scoped>\n",
       "    .dataframe tbody tr th:only-of-type {\n",
       "        vertical-align: middle;\n",
       "    }\n",
       "\n",
       "    .dataframe tbody tr th {\n",
       "        vertical-align: top;\n",
       "    }\n",
       "\n",
       "    .dataframe thead th {\n",
       "        text-align: right;\n",
       "    }\n",
       "</style>\n",
       "<table border=\"1\" class=\"dataframe\">\n",
       "  <thead>\n",
       "    <tr style=\"text-align: right;\">\n",
       "      <th></th>\n",
       "      <th>Store</th>\n",
       "      <th>Dept</th>\n",
       "      <th>Weekly_Sales</th>\n",
       "      <th>IsHoliday</th>\n",
       "      <th>Temperature</th>\n",
       "      <th>Fuel_Price</th>\n",
       "      <th>CPI</th>\n",
       "      <th>Unemployment</th>\n",
       "      <th>Type</th>\n",
       "      <th>Size</th>\n",
       "      <th>Markdowns</th>\n",
       "      <th>Year</th>\n",
       "      <th>Month</th>\n",
       "      <th>Day</th>\n",
       "    </tr>\n",
       "  </thead>\n",
       "  <tbody>\n",
       "    <tr>\n",
       "      <th>0</th>\n",
       "      <td>1</td>\n",
       "      <td>1</td>\n",
       "      <td>24924.50</td>\n",
       "      <td>False</td>\n",
       "      <td>42.31</td>\n",
       "      <td>2.572</td>\n",
       "      <td>211.096358</td>\n",
       "      <td>8.106</td>\n",
       "      <td>A</td>\n",
       "      <td>151315</td>\n",
       "      <td>0.0</td>\n",
       "      <td>2010</td>\n",
       "      <td>2</td>\n",
       "      <td>5</td>\n",
       "    </tr>\n",
       "    <tr>\n",
       "      <th>100000</th>\n",
       "      <td>11</td>\n",
       "      <td>91</td>\n",
       "      <td>40968.40</td>\n",
       "      <td>False</td>\n",
       "      <td>84.94</td>\n",
       "      <td>2.577</td>\n",
       "      <td>214.848169</td>\n",
       "      <td>7.346</td>\n",
       "      <td>A</td>\n",
       "      <td>207499</td>\n",
       "      <td>0.0</td>\n",
       "      <td>2010</td>\n",
       "      <td>9</td>\n",
       "      <td>3</td>\n",
       "    </tr>\n",
       "    <tr>\n",
       "      <th>200000</th>\n",
       "      <td>21</td>\n",
       "      <td>52</td>\n",
       "      <td>2314.78</td>\n",
       "      <td>False</td>\n",
       "      <td>68.61</td>\n",
       "      <td>2.720</td>\n",
       "      <td>211.471329</td>\n",
       "      <td>8.163</td>\n",
       "      <td>B</td>\n",
       "      <td>140167</td>\n",
       "      <td>0.0</td>\n",
       "      <td>2010</td>\n",
       "      <td>10</td>\n",
       "      <td>15</td>\n",
       "    </tr>\n",
       "    <tr>\n",
       "      <th>300000</th>\n",
       "      <td>31</td>\n",
       "      <td>67</td>\n",
       "      <td>5729.66</td>\n",
       "      <td>False</td>\n",
       "      <td>69.79</td>\n",
       "      <td>3.274</td>\n",
       "      <td>217.004826</td>\n",
       "      <td>7.441</td>\n",
       "      <td>A</td>\n",
       "      <td>203750</td>\n",
       "      <td>0.0</td>\n",
       "      <td>2011</td>\n",
       "      <td>10</td>\n",
       "      <td>14</td>\n",
       "    </tr>\n",
       "    <tr>\n",
       "      <th>400000</th>\n",
       "      <td>43</td>\n",
       "      <td>91</td>\n",
       "      <td>30713.10</td>\n",
       "      <td>False</td>\n",
       "      <td>54.96</td>\n",
       "      <td>2.771</td>\n",
       "      <td>203.819129</td>\n",
       "      <td>10.210</td>\n",
       "      <td>C</td>\n",
       "      <td>41062</td>\n",
       "      <td>0.0</td>\n",
       "      <td>2010</td>\n",
       "      <td>11</td>\n",
       "      <td>19</td>\n",
       "    </tr>\n",
       "  </tbody>\n",
       "</table>\n",
       "</div>"
      ],
      "text/plain": [
       "        Store  Dept  Weekly_Sales  IsHoliday  Temperature  Fuel_Price  \\\n",
       "0           1     1      24924.50      False        42.31       2.572   \n",
       "100000     11    91      40968.40      False        84.94       2.577   \n",
       "200000     21    52       2314.78      False        68.61       2.720   \n",
       "300000     31    67       5729.66      False        69.79       3.274   \n",
       "400000     43    91      30713.10      False        54.96       2.771   \n",
       "\n",
       "               CPI  Unemployment Type    Size  Markdowns  Year  Month  Day  \n",
       "0       211.096358         8.106    A  151315        0.0  2010      2    5  \n",
       "100000  214.848169         7.346    A  207499        0.0  2010      9    3  \n",
       "200000  211.471329         8.163    B  140167        0.0  2010     10   15  \n",
       "300000  217.004826         7.441    A  203750        0.0  2011     10   14  \n",
       "400000  203.819129        10.210    C   41062        0.0  2010     11   19  "
      ]
     },
     "execution_count": 3,
     "metadata": {},
     "output_type": "execute_result"
    }
   ],
   "source": [
    "df = pd.read_csv('../../data/merged-train-data.csv')\n",
    "df[0::100000]"
   ]
  },
  {
   "cell_type": "markdown",
   "metadata": {},
   "source": [
    "# Doing Logisitc Regression"
   ]
  },
  {
   "cell_type": "code",
   "execution_count": 4,
   "metadata": {},
   "outputs": [],
   "source": [
    "#creating the feature matrix \n",
    "feature_cols = ['Store', 'Temperature','Fuel_Price','CPI','Unemployment', 'Markdowns', 'Size', 'Dept', 'Weekly_Sales', 'Year', 'Month', 'Day']\n",
    "X = df[feature_cols]"
   ]
  },
  {
   "cell_type": "code",
   "execution_count": 5,
   "metadata": {},
   "outputs": [
    {
     "data": {
      "text/plain": [
       "0         False\n",
       "10        False\n",
       "20        False\n",
       "30        False\n",
       "40        False\n",
       "50        False\n",
       "60        False\n",
       "70        False\n",
       "80         True\n",
       "90         True\n",
       "100        True\n",
       "110        True\n",
       "120        True\n",
       "130        True\n",
       "140        True\n",
       "150       False\n",
       "160       False\n",
       "170       False\n",
       "180       False\n",
       "190       False\n",
       "200       False\n",
       "210       False\n",
       "220       False\n",
       "230       False\n",
       "240       False\n",
       "250       False\n",
       "260       False\n",
       "270       False\n",
       "280       False\n",
       "290       False\n",
       "          ...  \n",
       "421270    False\n",
       "421280    False\n",
       "421290    False\n",
       "421300    False\n",
       "421310    False\n",
       "421320    False\n",
       "421330    False\n",
       "421340    False\n",
       "421350    False\n",
       "421360    False\n",
       "421370    False\n",
       "421380    False\n",
       "421390    False\n",
       "421400    False\n",
       "421410    False\n",
       "421420    False\n",
       "421430    False\n",
       "421440    False\n",
       "421450    False\n",
       "421460    False\n",
       "421470    False\n",
       "421480    False\n",
       "421490    False\n",
       "421500    False\n",
       "421510    False\n",
       "421520    False\n",
       "421530    False\n",
       "421540    False\n",
       "421550    False\n",
       "421560    False\n",
       "Name: IsHoliday, Length: 42157, dtype: bool"
      ]
     },
     "execution_count": 5,
     "metadata": {},
     "output_type": "execute_result"
    }
   ],
   "source": [
    "#Series of labels\n",
    "y = df['IsHoliday']\n",
    "y[0::10]"
   ]
  },
  {
   "cell_type": "code",
   "execution_count": 6,
   "metadata": {},
   "outputs": [],
   "source": [
    "#logreg instantiated as an object of LogisticRegression\n",
    "logreg = LogisticRegression()"
   ]
  },
  {
   "cell_type": "code",
   "execution_count": 7,
   "metadata": {},
   "outputs": [],
   "source": [
    "#Randomly Splitting the original dataset into training set and testing set. 30% of data samples for testing, and rest 70% for training.\n",
    "X_train, X_test, y_train, y_test = train_test_split(X,y,test_size=0.3, random_state=2)"
   ]
  },
  {
   "cell_type": "code",
   "execution_count": 8,
   "metadata": {},
   "outputs": [
    {
     "name": "stdout",
     "output_type": "stream",
     "text": [
      "(295099, 12)\n",
      "(295099,)\n"
     ]
    }
   ],
   "source": [
    "print(X_train.shape)\n",
    "print(y_train.shape)"
   ]
  },
  {
   "cell_type": "code",
   "execution_count": 9,
   "metadata": {},
   "outputs": [
    {
     "name": "stdout",
     "output_type": "stream",
     "text": [
      "(126471, 12)\n",
      "(126471,)\n"
     ]
    }
   ],
   "source": [
    "print(X_test.shape)\n",
    "print(y_test.shape)"
   ]
  },
  {
   "cell_type": "code",
   "execution_count": 10,
   "metadata": {},
   "outputs": [
    {
     "data": {
      "text/plain": [
       "LogisticRegression(C=1.0, class_weight=None, dual=False, fit_intercept=True,\n",
       "          intercept_scaling=1, max_iter=100, multi_class='ovr', n_jobs=1,\n",
       "          penalty='l2', random_state=None, solver='liblinear', tol=0.0001,\n",
       "          verbose=0, warm_start=False)"
      ]
     },
     "execution_count": 10,
     "metadata": {},
     "output_type": "execute_result"
    }
   ],
   "source": [
    "logreg.fit(X_train, y_train)"
   ]
  },
  {
   "cell_type": "code",
   "execution_count": 11,
   "metadata": {},
   "outputs": [
    {
     "name": "stdout",
     "output_type": "stream",
     "text": [
      "[False False False ... False False False]\n"
     ]
    }
   ],
   "source": [
    "y_predict_logreg = logreg.predict(X_test)\n",
    "print(y_predict_logreg)"
   ]
  },
  {
   "cell_type": "markdown",
   "metadata": {},
   "source": [
    "# Accuracy Evaluation Using Logistic Regression"
   ]
  },
  {
   "cell_type": "code",
   "execution_count": 12,
   "metadata": {},
   "outputs": [
    {
     "name": "stdout",
     "output_type": "stream",
     "text": [
      "0.9354239311778985\n"
     ]
    }
   ],
   "source": [
    "score_logreg = accuracy_score(y_test, y_predict_logreg)\n",
    "print(score_logreg)"
   ]
  },
  {
   "cell_type": "markdown",
   "metadata": {},
   "source": [
    "# # Cross-Validation"
   ]
  },
  {
   "cell_type": "code",
   "execution_count": 13,
   "metadata": {},
   "outputs": [],
   "source": [
    "from sklearn.model_selection import cross_val_score"
   ]
  },
  {
   "cell_type": "code",
   "execution_count": null,
   "metadata": {},
   "outputs": [],
   "source": [
    "#Applying 10-fold CV for logistic Regression \n",
    "\n",
    "#creating the feature matrix \n",
    "accuracy_cv_list = cross_val_score(logreg, X, y, cv=10, scoring='accuracy')\n",
    "\n",
    "print(accuracy_cv_list)"
   ]
  },
  {
   "cell_type": "code",
   "execution_count": null,
   "metadata": {},
   "outputs": [],
   "source": [
    "accuracy_list = accuracy_cv_list.mean()"
   ]
  },
  {
   "cell_type": "code",
   "execution_count": null,
   "metadata": {},
   "outputs": [],
   "source": [
    "print(accuracy_list)"
   ]
  },
  {
   "cell_type": "markdown",
   "metadata": {},
   "source": [
    " "
   ]
  },
  {
   "cell_type": "code",
   "execution_count": null,
   "metadata": {},
   "outputs": [],
   "source": [
    "df.head()"
   ]
  },
  {
   "cell_type": "code",
   "execution_count": null,
   "metadata": {},
   "outputs": [],
   "source": [
    "def categorical_to_numeric(x):\n",
    "    if x == False:\n",
    "        return 0\n",
    "    elif x == True:\n",
    "        return 1"
   ]
  },
  {
   "cell_type": "code",
   "execution_count": null,
   "metadata": {},
   "outputs": [],
   "source": [
    "df['IsHoliday'] = df['IsHoliday'].apply(categorical_to_numeric)"
   ]
  },
  {
   "cell_type": "code",
   "execution_count": null,
   "metadata": {},
   "outputs": [],
   "source": [
    "df.head()"
   ]
  },
  {
   "cell_type": "code",
   "execution_count": null,
   "metadata": {},
   "outputs": [],
   "source": [
    "#creating the feature matrix \n",
    "feature_cols_ = ['Store','Dept','Weekly_Sales','IsHoliday','Temperature','Fuel_Price','CPI','Unemployment','Type','Size','Markdowns','Year','Month','Day']\n",
    "X = df[feature_cols]"
   ]
  },
  {
   "cell_type": "code",
   "execution_count": null,
   "metadata": {},
   "outputs": [],
   "source": [
    "#Series of labels\n",
    "y = df['IsHoliday']\n",
    "y[0::10]"
   ]
  },
  {
   "cell_type": "code",
   "execution_count": null,
   "metadata": {},
   "outputs": [],
   "source": [
    "#logreg instantiated as an object of LogisticRegression\n",
    "lr = LogisticRegression()"
   ]
  },
  {
   "cell_type": "code",
   "execution_count": null,
   "metadata": {},
   "outputs": [],
   "source": [
    "#Randomly Splitting the original dataset into training set and testing set. 30% of data samples for testing, and rest 70% for training.\n",
    "X_train, X_test, y_train, y_test = train_test_split(X,y,test_size=0.3, random_state=2)"
   ]
  },
  {
   "cell_type": "code",
   "execution_count": null,
   "metadata": {},
   "outputs": [],
   "source": [
    "lr.fit(X_train, y_train)"
   ]
  },
  {
   "cell_type": "markdown",
   "metadata": {},
   "source": [
    "# ESTIMATING THE PROBABILITY OF EVENT THAT ITS A HOLIDAY"
   ]
  },
  {
   "cell_type": "code",
   "execution_count": null,
   "metadata": {},
   "outputs": [],
   "source": [
    "##\n",
    "y_predict_prob_lr = logreg.predict_proba(X_test)"
   ]
  },
  {
   "cell_type": "code",
   "execution_count": null,
   "metadata": {},
   "outputs": [],
   "source": [
    "#predicting the estimated likelihood of both label for testing sets\n",
    "print(y_predict_prob_lr)\n",
    "\n",
    "print(\"\\n\")\n",
    "\n",
    "#line prints the estimated likelihood of label=1\" for testing set\n",
    "print(y_predict_prob_lr[:,1])\n",
    "print(\"\\n\")\n",
    "\n",
    "#predicts the actual label of the testing set\n",
    "print(y_test)\n",
    "print(\"\\n\")\n",
    "\n",
    "#line prints the actual label of the testing set\n",
    "print(y_predict_logreg)"
   ]
  },
  {
   "cell_type": "code",
   "execution_count": null,
   "metadata": {},
   "outputs": [],
   "source": [
    "from sklearn import metrics\n",
    "#check dataset, predict whatever is dataset, \n",
    "#the function moves threadshold and detects , remember change pos_label to whatever it is, pos_leabel is define by u, so this \n",
    "#pos_label=1 this is for prediciting isHolday is true!\n",
    "fpr, tpr, thresholds = metrics.roc_curve(y_test, y_predict_prob_lr[:,1], pos_label=1)\n",
    "\n",
    "print(fpr) # false alarm\n",
    "\n",
    "print(tpr) #true positive"
   ]
  },
  {
   "cell_type": "code",
   "execution_count": null,
   "metadata": {},
   "outputs": [],
   "source": [
    "#auc\n",
    "AUC = metrics.auc(fpr, tpr)\n",
    "print(\"Area Under the Curve: \", AUC)"
   ]
  },
  {
   "cell_type": "code",
   "execution_count": null,
   "metadata": {},
   "outputs": [],
   "source": [
    "    #ROC CURVE\n",
    "# Importing the \"pyplot\" package of \"matplotlib\" library of python to generate \n",
    "# graphs and plot curves:\n",
    "import matplotlib.pyplot as plt\n",
    "\n",
    "# The following line will tell Jupyter Notebook to keep the figures inside the explorer page \n",
    "# rather than openng a new figure window:\n",
    "%matplotlib inline\n",
    "\n",
    "plt.figure()\n",
    "\n",
    "# Roc Curve:\n",
    "plt.plot(fpr, tpr, color='black', lw=2, \n",
    "         label='ROC Curve (area = %0.2f)' % AUC)\n",
    "\n",
    "# Random Guess line:\n",
    "plt.plot([0, 1], [0, 1], color='blue', lw=1, linestyle='--')\n",
    "\n",
    "# Defining The Range of X-Axis and Y-Axis:\n",
    "plt.xlim([-0.005, 1.005])\n",
    "plt.ylim([0.0, 1.01])\n",
    "\n",
    "# Labels, Title, Legend:\n",
    "plt.xlabel('False Positive Rate')\n",
    "plt.ylabel('True Positive Rate')\n",
    "plt.title('Receiver operating characteristic (ROC)')\n",
    "plt.legend(loc=\"lower right\")\n",
    "\n",
    "plt.show()"
   ]
  },
  {
   "cell_type": "code",
   "execution_count": null,
   "metadata": {},
   "outputs": [],
   "source": []
  }
 ],
 "metadata": {
  "kernelspec": {
   "display_name": "Python 3",
   "language": "python",
   "name": "python3"
  },
  "language_info": {
   "codemirror_mode": {
    "name": "ipython",
    "version": 3
   },
   "file_extension": ".py",
   "mimetype": "text/x-python",
   "name": "python",
   "nbconvert_exporter": "python",
   "pygments_lexer": "ipython3",
   "version": "3.6.5"
  }
 },
 "nbformat": 4,
 "nbformat_minor": 2
}
