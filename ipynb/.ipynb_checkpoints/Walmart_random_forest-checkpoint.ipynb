{
 "cells": [
  {
   "cell_type": "code",
   "execution_count": 1,
   "metadata": {},
   "outputs": [],
   "source": [
    "# ### Importing the required packages and libraries\n",
    "# # we will need numpy and pandas later\n",
    "# import numpy as np\n",
    "# import pandas as pd\n",
    "\n",
    "# #import LogisticRegression Class\n",
    "# from sklearn.linear_model import LogisticRegression\n",
    "# #import RandomForestClassifier class\n",
    "# from sklearn.ensemble import RandomForestClassifier\n",
    "\n",
    "# from sklearn.metrics import accuracy_score\n",
    "# # Randomly splitting the original dataset into training set and testing set\n",
    "# from sklearn.model_selection import train_test_split\n",
    "\n",
    "#Really need these\n",
    "import pandas as pd \n",
    "import numpy as np\n",
    "from numpy import *\n",
    "\n",
    "\n",
    "#Handy for debugging\n",
    "import gc\n",
    "import time\n",
    "import warnings\n",
    "import os\n",
    "\n",
    "#Date stuff\n",
    "from datetime import datetime\n",
    "from datetime import timedelta\n",
    "\n",
    "#Do some statistics\n",
    "from scipy.misc import imread\n",
    "from scipy import sparse\n",
    "import scipy.stats as ss\n",
    "import math\n",
    "\n",
    "\n",
    "\n",
    "#Machine learning tools\n",
    "from sklearn.ensemble import RandomForestRegressor\n",
    "from sklearn.utils.validation import check_X_y, check_is_fitted\n",
    "from sklearn.linear_model import LogisticRegression\n",
    "from sklearn import metrics\n",
    "from sklearn.metrics import log_loss\n",
    "from sklearn.model_selection import StratifiedKFold\n",
    "from sklearn.model_selection import train_test_split\n",
    "from sklearn.preprocessing import StandardScaler\n",
    "from sklearn.metrics import accuracy_score, confusion_matrix\n",
    "from scipy import sparse\n",
    "\n",
    "\n",
    "## Performance measures\n",
    "from sklearn.metrics import mean_squared_error"
   ]
  },
  {
   "cell_type": "code",
   "execution_count": 2,
   "metadata": {},
   "outputs": [],
   "source": [
    "# # reading a CSV file directly from Web, and store it in a pandas DataFrame:\n",
    "# # \"read_csv\" is a pandas function to read csv files from web or local device:\n",
    "# walmart_features_df =  pd.read_csv('features.csv')\n",
    "\n",
    "# walmart_sampleSubmission_df =  pd.read_csv('sampleSubmission.csv')\n",
    "\n",
    "# walmart_stores_df =  pd.read_csv('stores.csv')\n",
    "\n",
    "# walmart_test_df =  pd.read_csv('test.csv')\n",
    "\n",
    "# walmart_train_df =  pd.read_csv('train.csv')"
   ]
  },
  {
   "cell_type": "code",
   "execution_count": null,
   "metadata": {},
   "outputs": [],
   "source": [
    "df = pd.read_csv('../data/merged-train-data.csv')\n",
    "df[0::100000]"
   ]
  },
  {
   "cell_type": "code",
   "execution_count": 7,
   "metadata": {},
   "outputs": [
    {
     "name": "stdout",
     "output_type": "stream",
     "text": [
      "   Store  Dept  IsHoliday  Temperature  Fuel_Price         CPI  Unemployment  \\\n",
      "0      1     1      False        42.31       2.572  211.096358         8.106   \n",
      "1      1     2      False        42.31       2.572  211.096358         8.106   \n",
      "2      1     3      False        42.31       2.572  211.096358         8.106   \n",
      "3      1     4      False        42.31       2.572  211.096358         8.106   \n",
      "4      1     5      False        42.31       2.572  211.096358         8.106   \n",
      "\n",
      "     Size  Markdowns  Year  Month  Day  \n",
      "0  151315        0.0  2010      2    5  \n",
      "1  151315        0.0  2010      2    5  \n",
      "2  151315        0.0  2010      2    5  \n",
      "3  151315        0.0  2010      2    5  \n",
      "4  151315        0.0  2010      2    5  \n",
      "0    24924.50\n",
      "1    50605.27\n",
      "2    13740.12\n",
      "3    39954.04\n",
      "4    32229.38\n",
      "Name: Weekly_Sales, dtype: float64\n"
     ]
    }
   ],
   "source": [
    "#split with method\n",
    "y = df['Weekly_Sales']\n",
    "X = df.drop(columns=['Weekly_Sales','Type'])\n",
    "\n",
    "X_train, X_test, y_train, y_test = train_test_split(X, y, test_size=0.3, \n",
    "                                                    random_state=2)\n",
    "\n",
    "print(X.head())\n",
    "\n",
    "print(y.head())"
   ]
  },
  {
   "cell_type": "code",
   "execution_count": 8,
   "metadata": {},
   "outputs": [],
   "source": [
    "# print(X_train.shape)\n",
    "# print(y_train.shape)\n",
    "# print(X_test.shape)\n",
    "# print(X_train.head())"
   ]
  },
  {
   "cell_type": "code",
   "execution_count": 10,
   "metadata": {},
   "outputs": [
    {
     "name": "stdout",
     "output_type": "stream",
     "text": [
      "0.9534361329224632\n",
      "0.9628166225563727\n",
      "0.9691622111451561\n",
      "0.971263282010301\n",
      "0.9727151584764687\n",
      "0.9728055144084216\n",
      "0.9728426283264914\n",
      "0.9732900408513572\n",
      "0.9732659503582278\n",
      "0.9732060099293525\n",
      "0.9732030081349189\n",
      "0.973257439281741\n"
     ]
    }
   ],
   "source": [
    "from sklearn.metrics import r2_score\n",
    "\n",
    "num_est = [2,4,10,20,30,40,50,60,70,80,90,100]\n",
    "\n",
    "for i in num_est:\n",
    "    my_RandomForest = RandomForestRegressor(n_estimators = i, bootstrap = True, random_state=3)\n",
    "    my_RandomForest.fit(X_train,y_train)\n",
    "    y_predict_rf = my_RandomForest.predict(X_test)\n",
    "    y_predict_score = r2_score(y_test, y_predict_rf) \n",
    "    print (y_predict_score)\n"
   ]
  },
  {
   "cell_type": "markdown",
   "metadata": {},
   "source": [
    "I found that the best n_estimator to use was 60"
   ]
  },
  {
   "cell_type": "code",
   "execution_count": null,
   "metadata": {},
   "outputs": [],
   "source": []
  }
 ],
 "metadata": {
  "kernelspec": {
   "display_name": "Python 3",
   "language": "python",
   "name": "python3"
  },
  "language_info": {
   "codemirror_mode": {
    "name": "ipython",
    "version": 3
   },
   "file_extension": ".py",
   "mimetype": "text/x-python",
   "name": "python",
   "nbconvert_exporter": "python",
   "pygments_lexer": "ipython3",
   "version": "3.6.5"
  }
 },
 "nbformat": 4,
 "nbformat_minor": 2
}
