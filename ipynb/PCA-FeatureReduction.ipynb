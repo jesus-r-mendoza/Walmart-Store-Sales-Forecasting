{
 "cells": [
  {
   "cell_type": "markdown",
   "metadata": {},
   "source": [
    "# PCA - Feature Reduction"
   ]
  },
  {
   "cell_type": "code",
   "execution_count": 1,
   "metadata": {},
   "outputs": [],
   "source": [
    "import pandas as pd\n",
    "import numpy as np\n",
    "\n",
    "from sklearn.linear_model import LinearRegression\n",
    "from sklearn.metrics import accuracy_score\n",
    "from sklearn.model_selection import train_test_split\n",
    "from sklearn.model_selection import cross_val_score\n",
    "from sklearn.decomposition import PCA\n",
    "# Importing function to normalize the data\n",
    "from sklearn import preprocessing\n",
    "from sklearn import metrics\n",
    "from sklearn.tree import DecisionTreeRegressor\n",
    "from sklearn.ensemble import RandomForestRegressor\n",
    "from sklearn.metrics import r2_score\n",
    "# importing the required module \n",
    "import matplotlib.pyplot as plt"
   ]
  },
  {
   "cell_type": "code",
   "execution_count": 2,
   "metadata": {
    "scrolled": false
   },
   "outputs": [
    {
     "data": {
      "text/html": [
       "<div>\n",
       "<style scoped>\n",
       "    .dataframe tbody tr th:only-of-type {\n",
       "        vertical-align: middle;\n",
       "    }\n",
       "\n",
       "    .dataframe tbody tr th {\n",
       "        vertical-align: top;\n",
       "    }\n",
       "\n",
       "    .dataframe thead th {\n",
       "        text-align: right;\n",
       "    }\n",
       "</style>\n",
       "<table border=\"1\" class=\"dataframe\">\n",
       "  <thead>\n",
       "    <tr style=\"text-align: right;\">\n",
       "      <th></th>\n",
       "      <th>Store</th>\n",
       "      <th>Dept</th>\n",
       "      <th>Weekly_Sales</th>\n",
       "      <th>IsHoliday</th>\n",
       "      <th>Temperature</th>\n",
       "      <th>Fuel_Price</th>\n",
       "      <th>CPI</th>\n",
       "      <th>Unemployment</th>\n",
       "      <th>Type</th>\n",
       "      <th>Size</th>\n",
       "      <th>Markdowns</th>\n",
       "      <th>Year</th>\n",
       "      <th>Month</th>\n",
       "      <th>Day</th>\n",
       "    </tr>\n",
       "  </thead>\n",
       "  <tbody>\n",
       "    <tr>\n",
       "      <th>0</th>\n",
       "      <td>1</td>\n",
       "      <td>1</td>\n",
       "      <td>24924.50</td>\n",
       "      <td>False</td>\n",
       "      <td>42.31</td>\n",
       "      <td>2.572</td>\n",
       "      <td>211.096358</td>\n",
       "      <td>8.106</td>\n",
       "      <td>A</td>\n",
       "      <td>151315</td>\n",
       "      <td>0.0</td>\n",
       "      <td>2010</td>\n",
       "      <td>2</td>\n",
       "      <td>5</td>\n",
       "    </tr>\n",
       "    <tr>\n",
       "      <th>100000</th>\n",
       "      <td>11</td>\n",
       "      <td>91</td>\n",
       "      <td>40968.40</td>\n",
       "      <td>False</td>\n",
       "      <td>84.94</td>\n",
       "      <td>2.577</td>\n",
       "      <td>214.848169</td>\n",
       "      <td>7.346</td>\n",
       "      <td>A</td>\n",
       "      <td>207499</td>\n",
       "      <td>0.0</td>\n",
       "      <td>2010</td>\n",
       "      <td>9</td>\n",
       "      <td>3</td>\n",
       "    </tr>\n",
       "    <tr>\n",
       "      <th>200000</th>\n",
       "      <td>21</td>\n",
       "      <td>52</td>\n",
       "      <td>2314.78</td>\n",
       "      <td>False</td>\n",
       "      <td>68.61</td>\n",
       "      <td>2.720</td>\n",
       "      <td>211.471329</td>\n",
       "      <td>8.163</td>\n",
       "      <td>B</td>\n",
       "      <td>140167</td>\n",
       "      <td>0.0</td>\n",
       "      <td>2010</td>\n",
       "      <td>10</td>\n",
       "      <td>15</td>\n",
       "    </tr>\n",
       "    <tr>\n",
       "      <th>300000</th>\n",
       "      <td>31</td>\n",
       "      <td>67</td>\n",
       "      <td>5729.66</td>\n",
       "      <td>False</td>\n",
       "      <td>69.79</td>\n",
       "      <td>3.274</td>\n",
       "      <td>217.004826</td>\n",
       "      <td>7.441</td>\n",
       "      <td>A</td>\n",
       "      <td>203750</td>\n",
       "      <td>0.0</td>\n",
       "      <td>2011</td>\n",
       "      <td>10</td>\n",
       "      <td>14</td>\n",
       "    </tr>\n",
       "    <tr>\n",
       "      <th>400000</th>\n",
       "      <td>43</td>\n",
       "      <td>91</td>\n",
       "      <td>30713.10</td>\n",
       "      <td>False</td>\n",
       "      <td>54.96</td>\n",
       "      <td>2.771</td>\n",
       "      <td>203.819129</td>\n",
       "      <td>10.210</td>\n",
       "      <td>C</td>\n",
       "      <td>41062</td>\n",
       "      <td>0.0</td>\n",
       "      <td>2010</td>\n",
       "      <td>11</td>\n",
       "      <td>19</td>\n",
       "    </tr>\n",
       "  </tbody>\n",
       "</table>\n",
       "</div>"
      ],
      "text/plain": [
       "        Store  Dept  Weekly_Sales  IsHoliday  Temperature  Fuel_Price  \\\n",
       "0           1     1      24924.50      False        42.31       2.572   \n",
       "100000     11    91      40968.40      False        84.94       2.577   \n",
       "200000     21    52       2314.78      False        68.61       2.720   \n",
       "300000     31    67       5729.66      False        69.79       3.274   \n",
       "400000     43    91      30713.10      False        54.96       2.771   \n",
       "\n",
       "               CPI  Unemployment Type    Size  Markdowns  Year  Month  Day  \n",
       "0       211.096358         8.106    A  151315        0.0  2010      2    5  \n",
       "100000  214.848169         7.346    A  207499        0.0  2010      9    3  \n",
       "200000  211.471329         8.163    B  140167        0.0  2010     10   15  \n",
       "300000  217.004826         7.441    A  203750        0.0  2011     10   14  \n",
       "400000  203.819129        10.210    C   41062        0.0  2010     11   19  "
      ]
     },
     "execution_count": 2,
     "metadata": {},
     "output_type": "execute_result"
    }
   ],
   "source": [
    "df = pd.read_csv('../data/merged-train-data.csv')\n",
    "df[0::100000]"
   ]
  },
  {
   "cell_type": "code",
   "execution_count": 3,
   "metadata": {},
   "outputs": [],
   "source": [
    "feat = ['Store','Dept','IsHoliday','Temperature','Fuel_Price','CPI','Unemployment','Size','Markdowns','Year','Month','Day']\n",
    "X = df[feat]\n",
    "y = df['Weekly_Sales']"
   ]
  },
  {
   "cell_type": "code",
   "execution_count": 19,
   "metadata": {},
   "outputs": [],
   "source": [
    "def plot(x_coors, y_coors, y_axis_name):\n",
    "    \n",
    "    plt.plot(x_coors, y_coors, color='green', marker='o', markerfacecolor='red', markersize=6) \n",
    "\n",
    "    # naming the x axis \n",
    "    plt.xlabel(' # of PCA components ') \n",
    "    # naming the y axis \n",
    "    plt.ylabel(y_axis_name) \n",
    "  \n",
    "    # giving a title to my graph \n",
    "    plt.title(y_axis_name + ' vs. PCA Components') \n",
    "  \n",
    "    # function to show the plot \n",
    "    plt.show() "
   ]
  },
  {
   "cell_type": "markdown",
   "metadata": {},
   "source": [
    "# PCA on Linear Regression"
   ]
  },
  {
   "cell_type": "code",
   "execution_count": 4,
   "metadata": {},
   "outputs": [
    {
     "name": "stdout",
     "output_type": "stream",
     "text": [
      "\n",
      "= = = = = = = = Linear Regrression = = = = = = = = \n",
      "\n",
      "For 1 components, these are the results\n",
      "\n",
      "   Intercept:  15957.913328325285\n",
      "   Coefficient:  [-5547.29293258]\n",
      "   RMSE: 22152.94345407092\n",
      "\n",
      "For 2 components, these are the results\n",
      "\n",
      "   Intercept:  15957.91024400184\n",
      "   Coefficient:  [-5547.18547704   324.44489952]\n",
      "   RMSE: 22147.148036514092\n",
      "\n",
      "For 3 components, these are the results\n",
      "\n",
      "   Intercept:  15958.191795031318\n",
      "   Coefficient:  [-5546.53983639   324.35410728  -479.48014132]\n",
      "   RMSE: 22143.442087530068\n",
      "\n",
      "For 4 components, these are the results\n",
      "\n",
      "   Intercept:  15959.046965760612\n",
      "   Coefficient:  [-5547.03735272   321.79802639  -485.54894302  3346.56052892]\n",
      "   RMSE: 21878.916151542064\n",
      "\n",
      "For 5 components, these are the results\n",
      "\n",
      "   Intercept:  15959.304845148916\n",
      "   Coefficient:  [-5546.59336311   321.99080971  -485.51302494  3347.0832722\n",
      "  -412.56429701]\n",
      "   RMSE: 21874.517021035437\n",
      "\n",
      "For 6 components, these are the results\n",
      "\n",
      "   Intercept:  15958.255599520791\n",
      "   Coefficient:  [-5546.30777793   322.40816384  -485.8454754   3346.10362706\n",
      "  -409.86633676 -1147.43287237]\n",
      "   RMSE: 21846.07675495949\n",
      "\n",
      "For 7 components, these are the results\n",
      "\n",
      "   Intercept:  15958.37749535751\n",
      "   Coefficient:  [-5546.27212954   322.28944212  -486.08229746  3345.90871686\n",
      "  -409.87934752 -1147.40374965  -128.85791811]\n",
      "   RMSE: 21845.95820862322\n",
      "\n",
      "For 8 components, these are the results\n",
      "\n",
      "   Intercept:  15958.240411442142\n",
      "   Coefficient:  [-5546.73380735   323.16820096  -486.51458522  3345.90033421\n",
      "  -411.18760169 -1147.33694785  -128.71562298   568.56513262]\n",
      "   RMSE: 21836.167785667436\n",
      "\n",
      "For 9 components, these are the results\n",
      "\n",
      "   Intercept:  15958.032462873036\n",
      "   Coefficient:  [-5546.69981246   322.97699121  -486.44134648  3345.85134798\n",
      "  -411.01904613 -1147.08332406  -128.73849588   568.77728463\n",
      "  -171.91636101]\n",
      "   RMSE: 21835.43841747419\n",
      "\n",
      "For 10 components, these are the results\n",
      "\n",
      "   Intercept:  15958.324086426079\n",
      "   Coefficient:  [-5547.16970019   323.70103928  -486.6757727   3345.93785723\n",
      "  -411.51850631 -1146.58629504  -128.87962503   569.07326481\n",
      "  -172.05187678   346.09495817]\n",
      "   RMSE: 21832.227514715734\n",
      "\n",
      "For 11 components, these are the results\n",
      "\n",
      "   Intercept:  15958.284381673702\n",
      "   Coefficient:  [-5547.26169554   323.54514863  -486.59218428  3345.85821505\n",
      "  -411.50099426 -1146.49226439  -129.14917667   568.92946599\n",
      "  -172.22962585   345.99893871   170.0255852 ]\n",
      "   RMSE: 21831.95809073203\n",
      "\n",
      "For 12 components, these are the results\n",
      "\n",
      "   Intercept:  15958.477403692877\n",
      "   Coefficient:  [-5547.26962796   324.06281296  -486.82312568  3345.8547327\n",
      "  -411.60297141 -1146.43083096  -129.14539118   569.05812637\n",
      "  -172.15747821   345.94807709   170.04868096   127.43909659]\n",
      "   RMSE: 21830.53935050156\n"
     ]
    }
   ],
   "source": [
    "# Performing PCA\n",
    "# Total of 12 features, testing all reductions\n",
    "\n",
    "print('\\n= = = = = = = = Linear Regrression = = = = = = = = ')\n",
    "\n",
    "lin_x = []\n",
    "lin_y = []\n",
    "\n",
    "for i in range(1,13):\n",
    "    \n",
    "    pca = PCA(n_components=i, whiten='True')\n",
    "    new_X = pca.fit(X).transform(X)\n",
    "    X_train, X_test, y_train, y_test = train_test_split(new_X, y, test_size=0.3, random_state=2)\n",
    "   \n",
    "    lin_reg = LinearRegression()\n",
    "    lin_reg.fit(X_train, y_train)\n",
    "    \n",
    "    print('\\nFor', i, 'components, these are the results\\n')\n",
    "    print(\"   Intercept: \", lin_reg.intercept_)\n",
    "    print(\"   Coefficient: \" , lin_reg.coef_)\n",
    "    \n",
    "    y_pred = lin_reg.predict(X_test)\n",
    "    mse = metrics.mean_squared_error(y_test,y_pred)\n",
    "    rmse = np.sqrt(mse)\n",
    "    print('   RMSE:',rmse)\n",
    "    \n",
    "    lin_x.append(i)\n",
    "    lin_y.append(rmse)\n"
   ]
  },
  {
   "cell_type": "code",
   "execution_count": 13,
   "metadata": {},
   "outputs": [
    {
     "data": {
      "image/png": "[encoded data removed]",
      "text/plain": [
       "<Figure size 432x288 with 1 Axes>"
      ]
     },
     "metadata": {},
     "output_type": "display_data"
    }
   ],
   "source": [
    "# Plotting the linear regression graph\n",
    "plot(lin_x, lin_y, 'RMSE')"
   ]
  },
  {
   "cell_type": "markdown",
   "metadata": {},
   "source": [
    "This graph shows us that when the number of components for PCA is greater than 8, the RMSE does not change much. Therfore, we can conclude that 8 components for PCA is a good estimater."
   ]
  },
  {
   "cell_type": "markdown",
   "metadata": {},
   "source": [
    "# PCA on Decision Tree Regression"
   ]
  },
  {
   "cell_type": "code",
   "execution_count": 8,
   "metadata": {},
   "outputs": [
    {
     "name": "stdout",
     "output_type": "stream",
     "text": [
      "\n",
      "= = = = = = = = Decision Tree Regressor = = = = = = = = \n",
      "\n",
      "For 1 components, these are the results\n",
      "\n",
      "   Score: 0.08490635785124379\n",
      "\n",
      "For 2 components, these are the results\n",
      "\n",
      "   Score: 0.08538358486037145\n",
      "\n",
      "For 3 components, these are the results\n",
      "\n",
      "   Score: -0.615334625538833\n",
      "\n",
      "For 4 components, these are the results\n",
      "\n",
      "   Score: 0.8113020017781905\n",
      "\n",
      "For 5 components, these are the results\n",
      "\n",
      "   Score: 0.8213596368992444\n",
      "\n",
      "For 6 components, these are the results\n",
      "\n",
      "   Score: 0.8290250833905594\n",
      "\n",
      "For 7 components, these are the results\n",
      "\n",
      "   Score: 0.8326874933221743\n",
      "\n",
      "For 8 components, these are the results\n",
      "\n",
      "   Score: 0.9044101195917806\n",
      "\n",
      "For 9 components, these are the results\n",
      "\n",
      "   Score: 0.8996297073171443\n",
      "\n",
      "For 10 components, these are the results\n",
      "\n",
      "   Score: 0.9059802913659352\n",
      "\n",
      "For 11 components, these are the results\n",
      "\n",
      "   Score: 0.9054183671392539\n",
      "\n",
      "For 12 components, these are the results\n",
      "\n",
      "   Score: 0.9021163310536108\n"
     ]
    }
   ],
   "source": [
    "# Performing PCA\n",
    "# Total of 12 features, testing all reductions\n",
    "\n",
    "print('\\n= = = = = = = = Decision Tree Regressor = = = = = = = = ')\n",
    "\n",
    "dec_x = []\n",
    "dec_y = []\n",
    "\n",
    "for i in range(1,13):\n",
    "    \n",
    "    pca = PCA(n_components=i, whiten='True')\n",
    "    new_X = pca.fit(X).transform(X)\n",
    "    X_train, X_test, y_train, y_test = train_test_split(new_X, y, test_size=0.3, random_state=2)\n",
    "    \n",
    "    dec_tree_regressor = DecisionTreeRegressor()\n",
    "    dec_tree_regressor.fit(X_train, y_train)\n",
    "    \n",
    "    score_dt = dec_tree_regressor.score(X_test, y_test)\n",
    "    y_pred = dec_tree_regressor.predict(X_test)\n",
    "    \n",
    "    print('\\nFor', i, 'components, these are the results\\n')\n",
    "    print('   Score:',score_dt)\n",
    "    \n",
    "    dec_x.append(i)\n",
    "    dec_y.append(score_dt)\n"
   ]
  },
  {
   "cell_type": "code",
   "execution_count": 18,
   "metadata": {},
   "outputs": [
    {
     "data": {
      "image/png": "[encoded data removed]",
      "text/plain": [
       "<Figure size 432x288 with 1 Axes>"
      ]
     },
     "metadata": {},
     "output_type": "display_data"
    }
   ],
   "source": [
    "# Plotting the decision tree graph\n",
    "plot(dec_x, dec_y, 'Accuracy Score')"
   ]
  },
  {
   "cell_type": "markdown",
   "metadata": {},
   "source": [
    "Here we can see that, condensing the features from 12 to 8 features (using PCA) gives us the highest accuracy with the lowest number of features. Any less features than 8, would result in an 8 % drop in accuracy."
   ]
  },
  {
   "cell_type": "markdown",
   "metadata": {},
   "source": [
    "# PCA on Random Forest"
   ]
  },
  {
   "cell_type": "code",
   "execution_count": 15,
   "metadata": {
    "scrolled": true
   },
   "outputs": [
    {
     "name": "stdout",
     "output_type": "stream",
     "text": [
      "\n",
      "= = = = = = = = Random Forest = = = = = = = = \n",
      "\n",
      "For 1 components, these are the results\n",
      "\n",
      "   RMSE: 21842.699125597414\n",
      "\n",
      "For 3 components, these are the results\n",
      "\n",
      "   RMSE: 24075.124591195257\n",
      "\n",
      "For 5 components, these are the results\n",
      "\n",
      "   RMSE: 7436.902700871716\n",
      "\n",
      "For 7 components, these are the results\n",
      "\n",
      "   RMSE: 6902.575618006062\n",
      "\n",
      "For 9 components, these are the results\n",
      "\n",
      "   RMSE: 5529.226417204924\n",
      "\n",
      "For 11 components, these are the results\n",
      "\n",
      "   RMSE: 5550.357231938524\n"
     ]
    }
   ],
   "source": [
    "print('\\n= = = = = = = = Random Forest = = = = = = = = ')\n",
    "\n",
    "forest_x = []\n",
    "forest_y = []\n",
    "\n",
    "for i in range(1,13,2):\n",
    "    \n",
    "    pca = PCA(n_components=i, whiten='True')\n",
    "    new_X = pca.fit(X).transform(X)\n",
    "    X_train, X_test, y_train, y_test = train_test_split(new_X, y, test_size=0.3, random_state=2)\n",
    "    \n",
    "    rand_fst = RandomForestRegressor(n_estimators = 60, bootstrap = True, random_state=3)\n",
    "    rand_fst.fit(X_train,y_train)\n",
    "    \n",
    "    y_predict_rf = rand_fst.predict(X_test)\n",
    "    y_predict_score = r2_score(y_test, y_predict_rf)\n",
    "    mse = metrics.mean_squared_error(y_test, y_predict_rf)\n",
    "    rmse = np.sqrt(mse)\n",
    "    \n",
    "    print('\\nFor', i, 'components, these are the results\\n')\n",
    "    print('   RMSE:', rmse)\n",
    "    \n",
    "    forest_x.append(i)\n",
    "    forest_y.append(rmse)\n",
    "    "
   ]
  },
  {
   "cell_type": "code",
   "execution_count": 17,
   "metadata": {},
   "outputs": [
    {
     "data": {
      "image/png": "[encoded data removed]",
      "text/plain": [
       "<Figure size 432x288 with 1 Axes>"
      ]
     },
     "metadata": {},
     "output_type": "display_data"
    }
   ],
   "source": [
    "# Plottinh the random forest graph\n",
    "plot(forest_x, forest_y, 'RMSE')"
   ]
  },
  {
   "cell_type": "markdown",
   "metadata": {},
   "source": [
    "Here in this graph, for PCA on random forest, we can see that there is not much benefit to reducing the number of features. Especially when compared to the RSME values of using all 12 features (as in the other dedicated Random Forest ipynb file). Here, the lower values range around 5k, where as in the Random Forest file they are around 3k.\n",
    "* Note: we only performed PCA for every other value (1,3,5,7 ..) unlike the other sets. This is merely to save time."
   ]
  },
  {
   "cell_type": "code",
   "execution_count": 15,
   "metadata": {},
   "outputs": [
    {
     "name": "stdout",
     "output_type": "stream",
     "text": [
      "The maximum value for Weekly_Sales is: 693099.36\n",
      "The average Weekly_Sales are: 15981.258123467327\n",
      "This is the amount of values that are over the average: 130845 ; From a total of: 421570 values.\n"
     ]
    }
   ],
   "source": [
    "# Some statistical analysis of the data\n",
    "\n",
    "l = len(df['Weekly_Sales'])\n",
    "sm = 0\n",
    "mx = 0\n",
    "for i in df['Weekly_Sales']:\n",
    "    if i > mx:\n",
    "        mx = i\n",
    "    sm += i\n",
    "\n",
    "avg = sm/l    \n",
    "\n",
    "abvSum = 0\n",
    "for i in df['Weekly_Sales']:\n",
    "    if i > avg:\n",
    "        abvSum  += 1\n",
    "\n",
    "print('The maximum value for Weekly_Sales is:',mx)\n",
    "print('The average Weekly_Sales are:',sm/l)\n",
    "print('This is the amount of values that are over the average:',abvSum,'; From a total of:', l, 'values.')"
   ]
  },
  {
   "cell_type": "code",
   "execution_count": null,
   "metadata": {},
   "outputs": [],
   "source": []
  }
 ],
 "metadata": {
  "kernelspec": {
   "display_name": "Python 3",
   "language": "python",
   "name": "python3"
  },
  "language_info": {
   "codemirror_mode": {
    "name": "ipython",
    "version": 3
   },
   "file_extension": ".py",
   "mimetype": "text/x-python",
   "name": "python",
   "nbconvert_exporter": "python",
   "pygments_lexer": "ipython3",
   "version": "3.6.5"
  }
 },
 "nbformat": 4,
 "nbformat_minor": 2
}
